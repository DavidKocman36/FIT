{
 "cells": [
  {
   "attachments": {},
   "cell_type": "markdown",
   "metadata": {},
   "source": [
    "# Author: David Kocman, xkocma08\n",
    "\n",
    "Include všech potřebných knihoven a načtení dat."
   ]
  },
  {
   "cell_type": "code",
   "execution_count": 1,
   "metadata": {},
   "outputs": [],
   "source": [
    "#!/usr/bin/python3.10\n",
    "# coding=utf-8\n",
    "import pandas as pd\n",
    "from scipy.stats import chi2_contingency\n",
    "from scipy.stats import chi2\n",
    "from scipy.stats import mannwhitneyu\n",
    "\n",
    "df = pd.read_pickle(\"accidents.pkl.gz\")"
   ]
  },
  {
   "attachments": {},
   "cell_type": "markdown",
   "metadata": {},
   "source": [
    "\n",
    "## První úkol\n",
    "\n",
    "Pomocí $\\chi^{2}$ testu ověřit hypotézy s 95% jistotou (tedy $\\alpha$ = 0.05) na základě dat nehodovosti. Nultá hypotéza zní následovně:\n",
    "\n",
    "**H0: Na silnicích první třídy se při nehodách umíralo se stejnou pravděpodobností jako na silnicích třetí třídy.**\n",
    "\n",
    "Jako první si vytáhneme data na základě zadání, a to tedy řádky které odpovídají fatální nehodě, která se stala na silnici 1. nebo 3. třídy.\n",
    "S těmito daty vytvoříme *kontingenční tabulku*:"
   ]
  },
  {
   "cell_type": "code",
   "execution_count": 2,
   "metadata": {},
   "outputs": [],
   "source": [
    "df_first = df.loc[(df[\"p13a\"] > 0) & ((df[\"p36\"] == 1) | (df[\"p36\"] == 3)), [\"p13a\", \"p36\"]]\n",
    "\n",
    "ct = pd.crosstab( index=df_first[\"p36\"], columns=df_first[\"p13a\"], values=df_first[\"p13a\"], aggfunc=\"count\")\n"
   ]
  },
  {
   "attachments": {},
   "cell_type": "markdown",
   "metadata": {},
   "source": [
    "Z knihovny *scipy.stats* použijeme funkce **chi2_contingency**, která vypočítá statistiku, pvalue, stupně volnosti, předpokládané frekvence a **chi2.ppf**, která vypočítá kritickou tabulkovou hodnotu.\n",
    "\n",
    "Poté podle vypočítaných hodnot vyvodíme závěry."
   ]
  },
  {
   "cell_type": "code",
   "execution_count": 3,
   "metadata": {},
   "outputs": [
    {
     "name": "stdout",
     "output_type": "stream",
     "text": [
      "[[828.54746137  62.34216336  12.73657101   7.37380427]\n",
      " [407.45253863  30.65783664   6.26342899   3.62619573]]\n",
      "probability=0.950, critical=7.815, stat=8.899\n",
      "Závislé (zamítáme H0)\n"
     ]
    }
   ],
   "source": [
    "# H0: Na silnicích první třídy se při nehodách umíralo se stejnou pravděpodobností jako na silnicích třetí třídy.\n",
    "stat, p, dof, expected = chi2_contingency(ct)\n",
    "\n",
    "print(expected)\n",
    "# vedly častěji\n",
    "\n",
    "prob = 0.95\n",
    "critical = chi2.ppf(prob, dof)\n",
    "print('probability=%.3f, critical=%.3f, stat=%.3f' % (prob, critical, stat))\n",
    "if abs(stat) >= critical:\n",
    "    print('Závislé (zamítáme H0)')\n",
    "else:\n",
    "    print('Nezávislé (nepodařilo se zamítnout H0)')\n",
    "\n",
    "# Zamítli jsme H0"
   ]
  },
  {
   "attachments": {},
   "cell_type": "markdown",
   "metadata": {},
   "source": [
    "\n",
    "Můžeme na výsledku vidět, že realizace testové statistiky (*stat=8.899*) překročila kritickou hodnotu (*critical=7.815*), tudíž můžeme hypotézu **H0** zamítnout.\n",
    "\n",
    "Z *expected* výstupu funkce můžeme vidět, že nehody na silnicích první třídy vedli častěji k fatálnímu výsledku nehody."
   ]
  },
  {
   "attachments": {},
   "cell_type": "markdown",
   "metadata": {},
   "source": [
    "## Druhý úkol\n",
    "\n",
    "V tomto úkolu budu ověřovat následující dvě hypotézy opět s 95% jistotou:\n",
    "\n",
    "**H0: Při nehodách vozidel značky Škoda je škoda na vozidle nižší než při nehodách vozidel Audi.**\n",
    "\n",
    "Alternativní hypotéza:\n",
    "\n",
    "**H1: Při nehodách vozidel značky Škoda je škoda na vozidle vyšší než při nehodách vozidel Audi.**\n",
    "\n",
    "Pro tento test už ale nebudu užívat $\\chi^{2}$ test, ale *Mann-Whitney U-Test*. Tento neparametrický test porovnává že dvě sady nepárových dat mají totéž rozdělení pravděpodobnosti . Opět si vytáhneme data na základě podmínek a rozdělíme je do dvou polí, jedno pro Škodu a jedno pro Audi. Tyto pole naplníme hodnotami ze sloupce *p53*, které obashují škody na jednotlivých vozech."
   ]
  },
  {
   "cell_type": "code",
   "execution_count": 4,
   "metadata": {},
   "outputs": [],
   "source": [
    "# 39 == skoda, 2 == audi\n",
    "df_second = df.loc[((df[\"p45a\"] == 39) | (df[\"p45a\"] == 2)), [\"p45a\", \"p53\"]]\n",
    "\n",
    "array_skoda = df_second[(df_second[\"p45a\"] == 39)].p53.values\n",
    "\n",
    "array_audi = df_second[(df_second[\"p45a\"] == 2)].p53.values\n"
   ]
  },
  {
   "attachments": {},
   "cell_type": "markdown",
   "metadata": {},
   "source": [
    "Z toho důvodu, že test musí brát pole o stejných velikostech, rozhodl jsem se počítat pouze s prvními 1000 prvky v obou polích.\n",
    "\n",
    "Použitá funkce ze *scipy.stats* je **mannwhitneyu**"
   ]
  },
  {
   "cell_type": "code",
   "execution_count": 5,
   "metadata": {},
   "outputs": [
    {
     "name": "stdout",
     "output_type": "stream",
     "text": [
      "MannwhitneyuResult(statistic=438417.5, pvalue=0.9999991472891568)\n",
      "menší škoda u značek škoda než u audi\n"
     ]
    }
   ],
   "source": [
    "# 0.05\n",
    "res = mannwhitneyu(x=array_skoda[:1000], y=array_audi[:1000], alternative='greater')\n",
    "print(res)\n",
    "\n",
    "if res.pvalue < 0.05:\n",
    "    print(\"větší škoda u značek škoda než u audi\")\n",
    "else:\n",
    "    print(\"menší škoda u značek škoda než u audi\")\n",
    "\n",
    "#pvalue < 0.05 => výrazně nižší škoda na vozidle u značek Škoda než Audi"
   ]
  },
  {
   "attachments": {},
   "cell_type": "markdown",
   "metadata": {},
   "source": [
    "Můžeme vidět, že *pvalue* (0.999999) nám vyšla velmi vysoká s *alternative=greater* a nenachází se na zvolené hladině významnosti (*pvalue > 0.05*), což znamená že příjímáme hypotézu *H0* a zamítáme alternativní *H1*."
   ]
  }
 ],
 "metadata": {
  "kernelspec": {
   "display_name": "Python 3.10.8 64-bit",
   "language": "python",
   "name": "python3"
  },
  "language_info": {
   "codemirror_mode": {
    "name": "ipython",
    "version": 3
   },
   "file_extension": ".py",
   "mimetype": "text/x-python",
   "name": "python",
   "nbconvert_exporter": "python",
   "pygments_lexer": "ipython3",
   "version": "3.10.8"
  },
  "orig_nbformat": 4,
  "vscode": {
   "interpreter": {
    "hash": "97cc609b13305c559618ec78a438abc56230b9381f827f22d070313b9a1f3777"
   }
  }
 },
 "nbformat": 4,
 "nbformat_minor": 2
}
